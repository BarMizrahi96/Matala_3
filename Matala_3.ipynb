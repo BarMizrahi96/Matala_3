{
 "cells": [
  {
   "cell_type": "code",
   "execution_count": 43,
   "id": "9be8e242",
   "metadata": {},
   "outputs": [
    {
     "name": "stdout",
     "output_type": "stream",
     "text": [
      "Requirement already satisfied: python-dateutil in c:\\users\\97252\\anaconda3\\lib\\site-packages (2.8.1)\n",
      "Requirement already satisfied: six>=1.5 in c:\\users\\97252\\anaconda3\\lib\\site-packages (from python-dateutil) (1.15.0)\n"
     ]
    }
   ],
   "source": [
    "!pip install python-dateutil\n",
    "import pandas as pd\n",
    "import requests\n",
    "import numpy as np\n",
    "from datetime import datetime, timedelta\n",
    "import sklearn as sk\n",
    "import json\n",
    "\n",
    "# Reading the file\n",
    "with open(\"Enter text file\", 'r') as file:\n",
    "    destinations = file.read().splitlines()\n",
    "API_key = 'Enter API key'"
   ]
  },
  {
   "cell_type": "code",
   "execution_count": 44,
   "id": "723dffb5",
   "metadata": {},
   "outputs": [],
   "source": [
    "# Creating the new DataFrame\n",
    "data = {\n",
    "    'Target': [],\n",
    "    'Distance_km': [],\n",
    "    'Duration (hour+minutes)': [],\n",
    "    'Longitude': [],\n",
    "    'Latitude': []\n",
    "}"
   ]
  },
  {
   "cell_type": "markdown",
   "id": "fd6e0a92",
   "metadata": {},
   "source": [
    "## Latitude and Longitude\n"
   ]
  },
  {
   "cell_type": "code",
   "execution_count": 45,
   "id": "4a098a31",
   "metadata": {},
   "outputs": [],
   "source": [
    "# Google Geocode function for data retrieving\n",
    "def get_geocode_data(destination):\n",
    "    url = f'https://maps.googleapis.com/maps/api/geocode/json?address={destination}&key=%s'%(API_key)\n",
    "    # Send a GET request to the API and parse the response as JSON\n",
    "    try:\n",
    "        response = requests.get(url)\n",
    "        if not response.status_code == 200:\n",
    "            print(\"HTTP error\")\n",
    "        else:\n",
    "            try:\n",
    "                response_data = response.json()\n",
    "            except: \n",
    "                print(\"Response not in valid JSON format\")\n",
    "    except:\n",
    "        print(\"Something went wrong with requests.get\")\n",
    "    # Extract the relevant information from the response JSON\n",
    "    result = response_data['results'][0]\n",
    "    lat = result['geometry']['location']['lat'] # Extract the latitude\n",
    "    lng = result['geometry']['location']['lng'] # Extract the longitude\n",
    "    return lat, lng\n"
   ]
  },
  {
   "cell_type": "markdown",
   "id": "49ee56d3",
   "metadata": {},
   "source": [
    "## Distance and Duration\n"
   ]
  },
  {
   "cell_type": "code",
   "execution_count": 46,
   "id": "ec067014",
   "metadata": {},
   "outputs": [],
   "source": [
    "# Google Distance Matrix for distance and duration\n",
    "# Function to retrieve distance and duration information from Google Distance Matrix service\n",
    "def get_distance_data(destination):\n",
    "    origin = 'Tel Aviv, Israel'\n",
    "    # Construct the URL for the API request with the destination and API key\n",
    "    url = f'https://maps.googleapis.com/maps/api/distancematrix/json?units=metric&origins={origin}&destinations={destination}&key=%s'%(API_key)\n",
    "    try:\n",
    "        # Send a GET request to the API and parse the response as JSON\n",
    "        response = requests.get(url)\n",
    "        if not response.status_code == 200:\n",
    "            print (\"HTTP error\")\n",
    "        else:\n",
    "            try:\n",
    "                response_data = response.json()\n",
    "            except:\n",
    "                print(\"Response not in valid JSON format\")\n",
    "    except:\n",
    "        print(\"Something went wrong with requests.get\")\n",
    "    # Extract the relevant information from the response JSON\n",
    "    element = response_data['rows'][0]['elements'][0]\n",
    "    distance = element['distance']['text']  # Extract the distance as text\n",
    "    duration_in_minutes = element['duration']['value']//60 # converting time to minutes only\n",
    "    duration = \"%s hours %s minutes\" % (duration_in_minutes//60, duration_in_minutes%60) # dividing the duration to hours and minutes\n",
    "    return(distance, duration)\n",
    "\n"
   ]
  },
  {
   "cell_type": "code",
   "execution_count": 47,
   "id": "1395c166",
   "metadata": {
    "scrolled": false
   },
   "outputs": [],
   "source": [
    "# Storing all the information about the destinations in DataFrame \n",
    "for destination in destinations:\n",
    "    distance, duration = get_distance_data(destination)\n",
    "    lat, lng = get_geocode_data(destination)\n",
    "    data['Target'].append(destination)\n",
    "    data['Distance_km'].append(distance)\n",
    "    data['Duration (hour+minutes)'].append(duration)\n",
    "    data['Longitude'].append(lng)\n",
    "    data['Latitude'].append(lat)\n",
    "    \n",
    "df = pd.DataFrame(data)\n"
   ]
  },
  {
   "cell_type": "markdown",
   "id": "9152d07c",
   "metadata": {},
   "source": [
    "## DataFrame content"
   ]
  },
  {
   "cell_type": "code",
   "execution_count": 48,
   "id": "ab531533",
   "metadata": {},
   "outputs": [
    {
     "data": {
      "text/html": [
       "<div>\n",
       "<style scoped>\n",
       "    .dataframe tbody tr th:only-of-type {\n",
       "        vertical-align: middle;\n",
       "    }\n",
       "\n",
       "    .dataframe tbody tr th {\n",
       "        vertical-align: top;\n",
       "    }\n",
       "\n",
       "    .dataframe thead th {\n",
       "        text-align: right;\n",
       "    }\n",
       "</style>\n",
       "<table border=\"1\" class=\"dataframe\">\n",
       "  <thead>\n",
       "    <tr style=\"text-align: right;\">\n",
       "      <th></th>\n",
       "      <th>Target</th>\n",
       "      <th>Distance_km</th>\n",
       "      <th>Duration (hour+minutes)</th>\n",
       "      <th>Longitude</th>\n",
       "      <th>Latitude</th>\n",
       "    </tr>\n",
       "  </thead>\n",
       "  <tbody>\n",
       "    <tr>\n",
       "      <th>0</th>\n",
       "      <td>Istanbul</td>\n",
       "      <td>1,815 km</td>\n",
       "      <td>21 hours 2 minutes</td>\n",
       "      <td>28.978359</td>\n",
       "      <td>41.008238</td>\n",
       "    </tr>\n",
       "    <tr>\n",
       "      <th>1</th>\n",
       "      <td>Amsterdam</td>\n",
       "      <td>4,533 km</td>\n",
       "      <td>48 hours 3 minutes</td>\n",
       "      <td>4.904139</td>\n",
       "      <td>52.367573</td>\n",
       "    </tr>\n",
       "    <tr>\n",
       "      <th>2</th>\n",
       "      <td>Valletta</td>\n",
       "      <td>3,793 km</td>\n",
       "      <td>50 hours 52 minutes</td>\n",
       "      <td>14.514100</td>\n",
       "      <td>35.899237</td>\n",
       "    </tr>\n",
       "    <tr>\n",
       "      <th>3</th>\n",
       "      <td>Basel</td>\n",
       "      <td>4,093 km</td>\n",
       "      <td>44 hours 2 minutes</td>\n",
       "      <td>7.588576</td>\n",
       "      <td>47.559599</td>\n",
       "    </tr>\n",
       "    <tr>\n",
       "      <th>4</th>\n",
       "      <td>Doha</td>\n",
       "      <td>2,164 km</td>\n",
       "      <td>22 hours 38 minutes</td>\n",
       "      <td>51.531040</td>\n",
       "      <td>25.285447</td>\n",
       "    </tr>\n",
       "  </tbody>\n",
       "</table>\n",
       "</div>"
      ],
      "text/plain": [
       "      Target Distance_km Duration (hour+minutes)  Longitude   Latitude\n",
       "0   Istanbul    1,815 km      21 hours 2 minutes  28.978359  41.008238\n",
       "1  Amsterdam    4,533 km      48 hours 3 minutes   4.904139  52.367573\n",
       "2   Valletta    3,793 km     50 hours 52 minutes  14.514100  35.899237\n",
       "3      Basel    4,093 km      44 hours 2 minutes   7.588576  47.559599\n",
       "4       Doha    2,164 km     22 hours 38 minutes  51.531040  25.285447"
      ]
     },
     "execution_count": 48,
     "metadata": {},
     "output_type": "execute_result"
    }
   ],
   "source": [
    "df"
   ]
  },
  {
   "cell_type": "markdown",
   "id": "2322eef2",
   "metadata": {},
   "source": [
    "## 3 cities furthest from Tel Aviv"
   ]
  },
  {
   "cell_type": "code",
   "execution_count": 49,
   "id": "75aed4ac",
   "metadata": {},
   "outputs": [
    {
     "data": {
      "text/html": [
       "<div>\n",
       "<style scoped>\n",
       "    .dataframe tbody tr th:only-of-type {\n",
       "        vertical-align: middle;\n",
       "    }\n",
       "\n",
       "    .dataframe tbody tr th {\n",
       "        vertical-align: top;\n",
       "    }\n",
       "\n",
       "    .dataframe thead th {\n",
       "        text-align: right;\n",
       "    }\n",
       "</style>\n",
       "<table border=\"1\" class=\"dataframe\">\n",
       "  <thead>\n",
       "    <tr style=\"text-align: right;\">\n",
       "      <th></th>\n",
       "      <th>Target</th>\n",
       "      <th>Distance_km</th>\n",
       "      <th>Duration (hour+minutes)</th>\n",
       "      <th>Longitude</th>\n",
       "      <th>Latitude</th>\n",
       "    </tr>\n",
       "  </thead>\n",
       "  <tbody>\n",
       "    <tr>\n",
       "      <th>1</th>\n",
       "      <td>Amsterdam</td>\n",
       "      <td>4,533 km</td>\n",
       "      <td>48 hours 3 minutes</td>\n",
       "      <td>4.904139</td>\n",
       "      <td>52.367573</td>\n",
       "    </tr>\n",
       "    <tr>\n",
       "      <th>3</th>\n",
       "      <td>Basel</td>\n",
       "      <td>4,093 km</td>\n",
       "      <td>44 hours 2 minutes</td>\n",
       "      <td>7.588576</td>\n",
       "      <td>47.559599</td>\n",
       "    </tr>\n",
       "    <tr>\n",
       "      <th>2</th>\n",
       "      <td>Valletta</td>\n",
       "      <td>3,793 km</td>\n",
       "      <td>50 hours 52 minutes</td>\n",
       "      <td>14.514100</td>\n",
       "      <td>35.899237</td>\n",
       "    </tr>\n",
       "  </tbody>\n",
       "</table>\n",
       "</div>"
      ],
      "text/plain": [
       "      Target Distance_km Duration (hour+minutes)  Longitude   Latitude\n",
       "1  Amsterdam    4,533 km      48 hours 3 minutes   4.904139  52.367573\n",
       "3      Basel    4,093 km      44 hours 2 minutes   7.588576  47.559599\n",
       "2   Valletta    3,793 km     50 hours 52 minutes  14.514100  35.899237"
      ]
     },
     "execution_count": 49,
     "metadata": {},
     "output_type": "execute_result"
    }
   ],
   "source": [
    "# Sort the dataframe by distance in descending order\n",
    "df_sorted = df.sort_values('Distance_km', ascending=False)\n",
    "\n",
    "# Get the top 3 cities furthest from Tel Aviv\n",
    "furthest_cities = df_sorted.head(3)\n",
    "\n",
    "# Print the result\n",
    "furthest_cities"
   ]
  }
 ],
 "metadata": {
  "kernelspec": {
   "display_name": "Python 3",
   "language": "python",
   "name": "python3"
  },
  "language_info": {
   "codemirror_mode": {
    "name": "ipython",
    "version": 3
   },
   "file_extension": ".py",
   "mimetype": "text/x-python",
   "name": "python",
   "nbconvert_exporter": "python",
   "pygments_lexer": "ipython3",
   "version": "3.8.8"
  }
 },
 "nbformat": 4,
 "nbformat_minor": 5
}
